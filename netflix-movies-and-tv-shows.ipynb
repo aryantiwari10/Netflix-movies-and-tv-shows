{
 "cells": [
  {
   "cell_type": "markdown",
   "id": "appropriate-lover",
   "metadata": {
    "_cell_guid": "b1076dfc-b9ad-4769-8c92-a6c4dae69d19",
    "_uuid": "8f2839f25d086af736a60e9eeb907d3b93b6e0e5",
    "papermill": {
     "duration": 0.024376,
     "end_time": "2021-05-08T07:29:44.227787",
     "exception": false,
     "start_time": "2021-05-08T07:29:44.203411",
     "status": "completed"
    },
    "tags": []
   },
   "source": [
    "# NETFLIX MOVIES AND TV SHOWS"
   ]
  },
  {
   "cell_type": "code",
   "execution_count": 1,
   "id": "molecular-active",
   "metadata": {
    "execution": {
     "iopub.execute_input": "2021-05-08T07:29:44.280395Z",
     "iopub.status.busy": "2021-05-08T07:29:44.279771Z",
     "iopub.status.idle": "2021-05-08T07:29:45.284722Z",
     "shell.execute_reply": "2021-05-08T07:29:45.283924Z"
    },
    "papermill": {
     "duration": 1.033901,
     "end_time": "2021-05-08T07:29:45.284880",
     "exception": false,
     "start_time": "2021-05-08T07:29:44.250979",
     "status": "completed"
    },
    "tags": []
   },
   "outputs": [],
   "source": [
    "#loading importing libraries\n",
    "import pandas as pd\n",
    "import matplotlib.pyplot as plt\n",
    "import seaborn as sns\n",
    "import numpy as np\n",
    "import scipy as sp\n",
    "import os\n",
    "import warnings\n",
    "warnings.filterwarnings(\"ignore\")"
   ]
  },
  {
   "cell_type": "code",
   "execution_count": 2,
   "id": "polyphonic-flashing",
   "metadata": {
    "execution": {
     "iopub.execute_input": "2021-05-08T07:29:45.336878Z",
     "iopub.status.busy": "2021-05-08T07:29:45.336219Z",
     "iopub.status.idle": "2021-05-08T07:29:45.479384Z",
     "shell.execute_reply": "2021-05-08T07:29:45.478757Z"
    },
    "papermill": {
     "duration": 0.171201,
     "end_time": "2021-05-08T07:29:45.479528",
     "exception": false,
     "start_time": "2021-05-08T07:29:45.308327",
     "status": "completed"
    },
    "tags": []
   },
   "outputs": [],
   "source": [
    "df= pd.read_csv(\"../input/netflix-shows/netflix_titles.csv\")"
   ]
  },
  {
   "cell_type": "markdown",
   "id": "statutory-georgia",
   "metadata": {
    "papermill": {
     "duration": 0.02448,
     "end_time": "2021-05-08T07:29:45.527323",
     "exception": false,
     "start_time": "2021-05-08T07:29:45.502843",
     "status": "completed"
    },
    "tags": []
   },
   "source": [
    "# DISPLAY THE TOP 5 COLUMNS USING HEAD"
   ]
  },
  {
   "cell_type": "code",
   "execution_count": 3,
   "id": "floppy-victory",
   "metadata": {
    "execution": {
     "iopub.execute_input": "2021-05-08T07:29:45.588623Z",
     "iopub.status.busy": "2021-05-08T07:29:45.587941Z",
     "iopub.status.idle": "2021-05-08T07:29:45.612768Z",
     "shell.execute_reply": "2021-05-08T07:29:45.613293Z"
    },
    "papermill": {
     "duration": 0.062321,
     "end_time": "2021-05-08T07:29:45.613459",
     "exception": false,
     "start_time": "2021-05-08T07:29:45.551138",
     "status": "completed"
    },
    "tags": []
   },
   "outputs": [
    {
     "data": {
      "text/html": [
       "<div>\n",
       "<style scoped>\n",
       "    .dataframe tbody tr th:only-of-type {\n",
       "        vertical-align: middle;\n",
       "    }\n",
       "\n",
       "    .dataframe tbody tr th {\n",
       "        vertical-align: top;\n",
       "    }\n",
       "\n",
       "    .dataframe thead th {\n",
       "        text-align: right;\n",
       "    }\n",
       "</style>\n",
       "<table border=\"1\" class=\"dataframe\">\n",
       "  <thead>\n",
       "    <tr style=\"text-align: right;\">\n",
       "      <th></th>\n",
       "      <th>show_id</th>\n",
       "      <th>type</th>\n",
       "      <th>title</th>\n",
       "      <th>director</th>\n",
       "      <th>cast</th>\n",
       "      <th>country</th>\n",
       "      <th>date_added</th>\n",
       "      <th>release_year</th>\n",
       "      <th>rating</th>\n",
       "      <th>duration</th>\n",
       "      <th>listed_in</th>\n",
       "      <th>description</th>\n",
       "    </tr>\n",
       "  </thead>\n",
       "  <tbody>\n",
       "    <tr>\n",
       "      <th>0</th>\n",
       "      <td>s1</td>\n",
       "      <td>TV Show</td>\n",
       "      <td>3%</td>\n",
       "      <td>NaN</td>\n",
       "      <td>João Miguel, Bianca Comparato, Michel Gomes, R...</td>\n",
       "      <td>Brazil</td>\n",
       "      <td>August 14, 2020</td>\n",
       "      <td>2020</td>\n",
       "      <td>TV-MA</td>\n",
       "      <td>4 Seasons</td>\n",
       "      <td>International TV Shows, TV Dramas, TV Sci-Fi &amp;...</td>\n",
       "      <td>In a future where the elite inhabit an island ...</td>\n",
       "    </tr>\n",
       "    <tr>\n",
       "      <th>1</th>\n",
       "      <td>s2</td>\n",
       "      <td>Movie</td>\n",
       "      <td>7:19</td>\n",
       "      <td>Jorge Michel Grau</td>\n",
       "      <td>Demián Bichir, Héctor Bonilla, Oscar Serrano, ...</td>\n",
       "      <td>Mexico</td>\n",
       "      <td>December 23, 2016</td>\n",
       "      <td>2016</td>\n",
       "      <td>TV-MA</td>\n",
       "      <td>93 min</td>\n",
       "      <td>Dramas, International Movies</td>\n",
       "      <td>After a devastating earthquake hits Mexico Cit...</td>\n",
       "    </tr>\n",
       "    <tr>\n",
       "      <th>2</th>\n",
       "      <td>s3</td>\n",
       "      <td>Movie</td>\n",
       "      <td>23:59</td>\n",
       "      <td>Gilbert Chan</td>\n",
       "      <td>Tedd Chan, Stella Chung, Henley Hii, Lawrence ...</td>\n",
       "      <td>Singapore</td>\n",
       "      <td>December 20, 2018</td>\n",
       "      <td>2011</td>\n",
       "      <td>R</td>\n",
       "      <td>78 min</td>\n",
       "      <td>Horror Movies, International Movies</td>\n",
       "      <td>When an army recruit is found dead, his fellow...</td>\n",
       "    </tr>\n",
       "    <tr>\n",
       "      <th>3</th>\n",
       "      <td>s4</td>\n",
       "      <td>Movie</td>\n",
       "      <td>9</td>\n",
       "      <td>Shane Acker</td>\n",
       "      <td>Elijah Wood, John C. Reilly, Jennifer Connelly...</td>\n",
       "      <td>United States</td>\n",
       "      <td>November 16, 2017</td>\n",
       "      <td>2009</td>\n",
       "      <td>PG-13</td>\n",
       "      <td>80 min</td>\n",
       "      <td>Action &amp; Adventure, Independent Movies, Sci-Fi...</td>\n",
       "      <td>In a postapocalyptic world, rag-doll robots hi...</td>\n",
       "    </tr>\n",
       "    <tr>\n",
       "      <th>4</th>\n",
       "      <td>s5</td>\n",
       "      <td>Movie</td>\n",
       "      <td>21</td>\n",
       "      <td>Robert Luketic</td>\n",
       "      <td>Jim Sturgess, Kevin Spacey, Kate Bosworth, Aar...</td>\n",
       "      <td>United States</td>\n",
       "      <td>January 1, 2020</td>\n",
       "      <td>2008</td>\n",
       "      <td>PG-13</td>\n",
       "      <td>123 min</td>\n",
       "      <td>Dramas</td>\n",
       "      <td>A brilliant group of students become card-coun...</td>\n",
       "    </tr>\n",
       "  </tbody>\n",
       "</table>\n",
       "</div>"
      ],
      "text/plain": [
       "  show_id     type  title           director  \\\n",
       "0      s1  TV Show     3%                NaN   \n",
       "1      s2    Movie   7:19  Jorge Michel Grau   \n",
       "2      s3    Movie  23:59       Gilbert Chan   \n",
       "3      s4    Movie      9        Shane Acker   \n",
       "4      s5    Movie     21     Robert Luketic   \n",
       "\n",
       "                                                cast        country  \\\n",
       "0  João Miguel, Bianca Comparato, Michel Gomes, R...         Brazil   \n",
       "1  Demián Bichir, Héctor Bonilla, Oscar Serrano, ...         Mexico   \n",
       "2  Tedd Chan, Stella Chung, Henley Hii, Lawrence ...      Singapore   \n",
       "3  Elijah Wood, John C. Reilly, Jennifer Connelly...  United States   \n",
       "4  Jim Sturgess, Kevin Spacey, Kate Bosworth, Aar...  United States   \n",
       "\n",
       "          date_added  release_year rating   duration  \\\n",
       "0    August 14, 2020          2020  TV-MA  4 Seasons   \n",
       "1  December 23, 2016          2016  TV-MA     93 min   \n",
       "2  December 20, 2018          2011      R     78 min   \n",
       "3  November 16, 2017          2009  PG-13     80 min   \n",
       "4    January 1, 2020          2008  PG-13    123 min   \n",
       "\n",
       "                                           listed_in  \\\n",
       "0  International TV Shows, TV Dramas, TV Sci-Fi &...   \n",
       "1                       Dramas, International Movies   \n",
       "2                Horror Movies, International Movies   \n",
       "3  Action & Adventure, Independent Movies, Sci-Fi...   \n",
       "4                                             Dramas   \n",
       "\n",
       "                                         description  \n",
       "0  In a future where the elite inhabit an island ...  \n",
       "1  After a devastating earthquake hits Mexico Cit...  \n",
       "2  When an army recruit is found dead, his fellow...  \n",
       "3  In a postapocalyptic world, rag-doll robots hi...  \n",
       "4  A brilliant group of students become card-coun...  "
      ]
     },
     "execution_count": 3,
     "metadata": {},
     "output_type": "execute_result"
    }
   ],
   "source": [
    "df.head()"
   ]
  },
  {
   "cell_type": "code",
   "execution_count": 4,
   "id": "informative-genealogy",
   "metadata": {
    "execution": {
     "iopub.execute_input": "2021-05-08T07:29:45.671343Z",
     "iopub.status.busy": "2021-05-08T07:29:45.670640Z",
     "iopub.status.idle": "2021-05-08T07:29:45.677169Z",
     "shell.execute_reply": "2021-05-08T07:29:45.676613Z"
    },
    "papermill": {
     "duration": 0.035103,
     "end_time": "2021-05-08T07:29:45.677317",
     "exception": false,
     "start_time": "2021-05-08T07:29:45.642214",
     "status": "completed"
    },
    "tags": []
   },
   "outputs": [
    {
     "data": {
      "text/plain": [
       "Index(['show_id', 'type', 'title', 'director', 'cast', 'country', 'date_added',\n",
       "       'release_year', 'rating', 'duration', 'listed_in', 'description'],\n",
       "      dtype='object')"
      ]
     },
     "execution_count": 4,
     "metadata": {},
     "output_type": "execute_result"
    }
   ],
   "source": [
    "df.columns"
   ]
  },
  {
   "cell_type": "code",
   "execution_count": 5,
   "id": "charming-tracker",
   "metadata": {
    "execution": {
     "iopub.execute_input": "2021-05-08T07:29:45.734684Z",
     "iopub.status.busy": "2021-05-08T07:29:45.733622Z",
     "iopub.status.idle": "2021-05-08T07:29:45.738564Z",
     "shell.execute_reply": "2021-05-08T07:29:45.738015Z"
    },
    "papermill": {
     "duration": 0.036548,
     "end_time": "2021-05-08T07:29:45.738704",
     "exception": false,
     "start_time": "2021-05-08T07:29:45.702156",
     "status": "completed"
    },
    "tags": []
   },
   "outputs": [
    {
     "data": {
      "text/plain": [
       "show_id         object\n",
       "type            object\n",
       "title           object\n",
       "director        object\n",
       "cast            object\n",
       "country         object\n",
       "date_added      object\n",
       "release_year     int64\n",
       "rating          object\n",
       "duration        object\n",
       "listed_in       object\n",
       "description     object\n",
       "dtype: object"
      ]
     },
     "execution_count": 5,
     "metadata": {},
     "output_type": "execute_result"
    }
   ],
   "source": [
    "df.dtypes # displaying the data types"
   ]
  },
  {
   "cell_type": "code",
   "execution_count": 6,
   "id": "grand-commercial",
   "metadata": {
    "execution": {
     "iopub.execute_input": "2021-05-08T07:29:45.791984Z",
     "iopub.status.busy": "2021-05-08T07:29:45.791363Z",
     "iopub.status.idle": "2021-05-08T07:29:45.820570Z",
     "shell.execute_reply": "2021-05-08T07:29:45.821324Z"
    },
    "papermill": {
     "duration": 0.057793,
     "end_time": "2021-05-08T07:29:45.821508",
     "exception": false,
     "start_time": "2021-05-08T07:29:45.763715",
     "status": "completed"
    },
    "tags": []
   },
   "outputs": [
    {
     "name": "stdout",
     "output_type": "stream",
     "text": [
      "<class 'pandas.core.frame.DataFrame'>\n",
      "RangeIndex: 7787 entries, 0 to 7786\n",
      "Data columns (total 12 columns):\n",
      " #   Column        Non-Null Count  Dtype \n",
      "---  ------        --------------  ----- \n",
      " 0   show_id       7787 non-null   object\n",
      " 1   type          7787 non-null   object\n",
      " 2   title         7787 non-null   object\n",
      " 3   director      5398 non-null   object\n",
      " 4   cast          7069 non-null   object\n",
      " 5   country       7280 non-null   object\n",
      " 6   date_added    7777 non-null   object\n",
      " 7   release_year  7787 non-null   int64 \n",
      " 8   rating        7780 non-null   object\n",
      " 9   duration      7787 non-null   object\n",
      " 10  listed_in     7787 non-null   object\n",
      " 11  description   7787 non-null   object\n",
      "dtypes: int64(1), object(11)\n",
      "memory usage: 730.2+ KB\n"
     ]
    }
   ],
   "source": [
    "df.info()"
   ]
  },
  {
   "cell_type": "markdown",
   "id": "quick-emerald",
   "metadata": {
    "papermill": {
     "duration": 0.025138,
     "end_time": "2021-05-08T07:29:45.872425",
     "exception": false,
     "start_time": "2021-05-08T07:29:45.847287",
     "status": "completed"
    },
    "tags": []
   },
   "source": [
    "# DISPLAYING THE ROWS AND COLUMNS USING SHAPE"
   ]
  },
  {
   "cell_type": "code",
   "execution_count": 7,
   "id": "popular-midnight",
   "metadata": {
    "execution": {
     "iopub.execute_input": "2021-05-08T07:29:45.926980Z",
     "iopub.status.busy": "2021-05-08T07:29:45.926369Z",
     "iopub.status.idle": "2021-05-08T07:29:45.931242Z",
     "shell.execute_reply": "2021-05-08T07:29:45.931760Z"
    },
    "papermill": {
     "duration": 0.033765,
     "end_time": "2021-05-08T07:29:45.931926",
     "exception": false,
     "start_time": "2021-05-08T07:29:45.898161",
     "status": "completed"
    },
    "tags": []
   },
   "outputs": [
    {
     "data": {
      "text/plain": [
       "(7787, 12)"
      ]
     },
     "execution_count": 7,
     "metadata": {},
     "output_type": "execute_result"
    }
   ],
   "source": [
    "df.shape  #7787 records and 12 columns"
   ]
  },
  {
   "cell_type": "code",
   "execution_count": 8,
   "id": "commercial-continuity",
   "metadata": {
    "execution": {
     "iopub.execute_input": "2021-05-08T07:29:45.988434Z",
     "iopub.status.busy": "2021-05-08T07:29:45.987768Z",
     "iopub.status.idle": "2021-05-08T07:29:46.006344Z",
     "shell.execute_reply": "2021-05-08T07:29:46.005654Z"
    },
    "papermill": {
     "duration": 0.04837,
     "end_time": "2021-05-08T07:29:46.006487",
     "exception": false,
     "start_time": "2021-05-08T07:29:45.958117",
     "status": "completed"
    },
    "tags": []
   },
   "outputs": [
    {
     "data": {
      "text/plain": [
       "show_id            0\n",
       "type               0\n",
       "title              0\n",
       "director        2389\n",
       "cast             718\n",
       "country          507\n",
       "date_added        10\n",
       "release_year       0\n",
       "rating             7\n",
       "duration           0\n",
       "listed_in          0\n",
       "description        0\n",
       "dtype: int64"
      ]
     },
     "execution_count": 8,
     "metadata": {},
     "output_type": "execute_result"
    }
   ],
   "source": [
    "df.isnull().sum()  # sum of null values"
   ]
  },
  {
   "cell_type": "code",
   "execution_count": 9,
   "id": "caroline-norwegian",
   "metadata": {
    "execution": {
     "iopub.execute_input": "2021-05-08T07:29:46.073996Z",
     "iopub.status.busy": "2021-05-08T07:29:46.072967Z",
     "iopub.status.idle": "2021-05-08T07:29:46.098144Z",
     "shell.execute_reply": "2021-05-08T07:29:46.098682Z"
    },
    "papermill": {
     "duration": 0.065853,
     "end_time": "2021-05-08T07:29:46.098973",
     "exception": false,
     "start_time": "2021-05-08T07:29:46.033120",
     "status": "completed"
    },
    "tags": []
   },
   "outputs": [
    {
     "data": {
      "text/plain": [
       "show_id          0.000000\n",
       "type             0.000000\n",
       "title            0.000000\n",
       "director        30.679337\n",
       "cast             9.220496\n",
       "country          6.510851\n",
       "date_added       0.128419\n",
       "release_year     0.000000\n",
       "rating           0.089893\n",
       "duration         0.000000\n",
       "listed_in        0.000000\n",
       "description      0.000000\n",
       "dtype: float64"
      ]
     },
     "execution_count": 9,
     "metadata": {},
     "output_type": "execute_result"
    }
   ],
   "source": [
    "#percentage of null values\n",
    "df.isnull().sum()/(len(df))*100"
   ]
  },
  {
   "cell_type": "code",
   "execution_count": 10,
   "id": "vocal-walker",
   "metadata": {
    "execution": {
     "iopub.execute_input": "2021-05-08T07:29:46.156624Z",
     "iopub.status.busy": "2021-05-08T07:29:46.155952Z",
     "iopub.status.idle": "2021-05-08T07:29:46.173723Z",
     "shell.execute_reply": "2021-05-08T07:29:46.173127Z"
    },
    "papermill": {
     "duration": 0.047676,
     "end_time": "2021-05-08T07:29:46.173862",
     "exception": false,
     "start_time": "2021-05-08T07:29:46.126186",
     "status": "completed"
    },
    "tags": []
   },
   "outputs": [],
   "source": [
    "#director column having maximum of 30% null values\n",
    "#director column has minimal use and having no logical way to replace values\n",
    "#hence getting droped\n",
    "director=df.dropna(axis=1)"
   ]
  },
  {
   "cell_type": "code",
   "execution_count": 11,
   "id": "boolean-groove",
   "metadata": {
    "execution": {
     "iopub.execute_input": "2021-05-08T07:29:46.235650Z",
     "iopub.status.busy": "2021-05-08T07:29:46.234930Z",
     "iopub.status.idle": "2021-05-08T07:29:46.238362Z",
     "shell.execute_reply": "2021-05-08T07:29:46.237666Z"
    },
    "papermill": {
     "duration": 0.037114,
     "end_time": "2021-05-08T07:29:46.238508",
     "exception": false,
     "start_time": "2021-05-08T07:29:46.201394",
     "status": "completed"
    },
    "tags": []
   },
   "outputs": [],
   "source": [
    "#temporarily filling null values of date_added with unknown later to be replaced with logical value\n",
    "df.date_added.fillna(\"unknown\",inplace= True)"
   ]
  },
  {
   "cell_type": "code",
   "execution_count": 12,
   "id": "genuine-kennedy",
   "metadata": {
    "execution": {
     "iopub.execute_input": "2021-05-08T07:29:46.309825Z",
     "iopub.status.busy": "2021-05-08T07:29:46.306856Z",
     "iopub.status.idle": "2021-05-08T07:29:46.313512Z",
     "shell.execute_reply": "2021-05-08T07:29:46.314128Z"
    },
    "papermill": {
     "duration": 0.048442,
     "end_time": "2021-05-08T07:29:46.314303",
     "exception": false,
     "start_time": "2021-05-08T07:29:46.265861",
     "status": "completed"
    },
    "tags": []
   },
   "outputs": [
    {
     "data": {
      "text/plain": [
       "show_id            0\n",
       "type               0\n",
       "title              0\n",
       "director        2389\n",
       "cast             718\n",
       "country          507\n",
       "date_added         0\n",
       "release_year       0\n",
       "rating             7\n",
       "duration           0\n",
       "listed_in          0\n",
       "description        0\n",
       "dtype: int64"
      ]
     },
     "execution_count": 12,
     "metadata": {},
     "output_type": "execute_result"
    }
   ],
   "source": [
    "df.isnull().sum()"
   ]
  },
  {
   "cell_type": "markdown",
   "id": "strange-label",
   "metadata": {
    "papermill": {
     "duration": 0.02779,
     "end_time": "2021-05-08T07:29:46.369955",
     "exception": false,
     "start_time": "2021-05-08T07:29:46.342165",
     "status": "completed"
    },
    "tags": []
   },
   "source": [
    "# USING ANONYMOUS FUNCTION : LAMBDA"
   ]
  },
  {
   "cell_type": "code",
   "execution_count": 13,
   "id": "technological-corpus",
   "metadata": {
    "execution": {
     "iopub.execute_input": "2021-05-08T07:29:46.431139Z",
     "iopub.status.busy": "2021-05-08T07:29:46.430170Z",
     "iopub.status.idle": "2021-05-08T07:29:46.441431Z",
     "shell.execute_reply": "2021-05-08T07:29:46.442025Z"
    },
    "papermill": {
     "duration": 0.04322,
     "end_time": "2021-05-08T07:29:46.442206",
     "exception": false,
     "start_time": "2021-05-08T07:29:46.398986",
     "status": "completed"
    },
    "tags": []
   },
   "outputs": [],
   "source": [
    "#creating new year column from date_added column\n",
    "df[\"year\"]= df.date_added.apply(lambda x: str(x).split(\",\")[-1])"
   ]
  },
  {
   "cell_type": "code",
   "execution_count": 14,
   "id": "protective-machine",
   "metadata": {
    "execution": {
     "iopub.execute_input": "2021-05-08T07:29:46.502679Z",
     "iopub.status.busy": "2021-05-08T07:29:46.501737Z",
     "iopub.status.idle": "2021-05-08T07:29:46.511574Z",
     "shell.execute_reply": "2021-05-08T07:29:46.512091Z"
    },
    "papermill": {
     "duration": 0.042168,
     "end_time": "2021-05-08T07:29:46.512262",
     "exception": false,
     "start_time": "2021-05-08T07:29:46.470094",
     "status": "completed"
    },
    "tags": []
   },
   "outputs": [
    {
     "data": {
      "text/plain": [
       " 2019      2153\n",
       " 2020      2009\n",
       " 2018      1685\n",
       " 2017      1225\n",
       " 2016       443\n",
       " 2021       117\n",
       " 2015        88\n",
       " 2014        25\n",
       " 2011        13\n",
       " 2013        11\n",
       "unknown      10\n",
       " 2012         3\n",
       " 2008         2\n",
       " 2009         2\n",
       " 2010         1\n",
       "Name: year, dtype: int64"
      ]
     },
     "execution_count": 14,
     "metadata": {},
     "output_type": "execute_result"
    }
   ],
   "source": [
    "#most occuring date:2019\n",
    "df.year.value_counts()    #COUNTING THE VALUES USING VALUE_COUNTS()"
   ]
  },
  {
   "cell_type": "code",
   "execution_count": 15,
   "id": "progressive-contractor",
   "metadata": {
    "execution": {
     "iopub.execute_input": "2021-05-08T07:29:46.572980Z",
     "iopub.status.busy": "2021-05-08T07:29:46.572033Z",
     "iopub.status.idle": "2021-05-08T07:29:46.581278Z",
     "shell.execute_reply": "2021-05-08T07:29:46.581790Z"
    },
    "papermill": {
     "duration": 0.04147,
     "end_time": "2021-05-08T07:29:46.581963",
     "exception": false,
     "start_time": "2021-05-08T07:29:46.540493",
     "status": "completed"
    },
    "tags": []
   },
   "outputs": [],
   "source": [
    "#replacing unknown values with 2019(most occuring date year)\n",
    "df[\"year\"]= df.year.apply(lambda x: str(x).replace(\"unknown\",\"2019\"))"
   ]
  },
  {
   "cell_type": "code",
   "execution_count": 16,
   "id": "therapeutic-ghana",
   "metadata": {
    "execution": {
     "iopub.execute_input": "2021-05-08T07:29:46.644693Z",
     "iopub.status.busy": "2021-05-08T07:29:46.643720Z",
     "iopub.status.idle": "2021-05-08T07:29:46.653868Z",
     "shell.execute_reply": "2021-05-08T07:29:46.654415Z"
    },
    "papermill": {
     "duration": 0.043065,
     "end_time": "2021-05-08T07:29:46.654603",
     "exception": false,
     "start_time": "2021-05-08T07:29:46.611538",
     "status": "completed"
    },
    "tags": []
   },
   "outputs": [],
   "source": [
    "#removing extra space in the year column values\n",
    "df[\"year\"]= df.year.apply(lambda x: str(x).replace(\" \",\"\"))"
   ]
  },
  {
   "cell_type": "code",
   "execution_count": 17,
   "id": "endless-guinea",
   "metadata": {
    "execution": {
     "iopub.execute_input": "2021-05-08T07:29:46.715863Z",
     "iopub.status.busy": "2021-05-08T07:29:46.714859Z",
     "iopub.status.idle": "2021-05-08T07:29:46.724741Z",
     "shell.execute_reply": "2021-05-08T07:29:46.725279Z"
    },
    "papermill": {
     "duration": 0.042224,
     "end_time": "2021-05-08T07:29:46.725452",
     "exception": false,
     "start_time": "2021-05-08T07:29:46.683228",
     "status": "completed"
    },
    "tags": []
   },
   "outputs": [
    {
     "data": {
      "text/plain": [
       "2019    2163\n",
       "2020    2009\n",
       "2018    1685\n",
       "2017    1225\n",
       "2016     443\n",
       "2021     117\n",
       "2015      88\n",
       "2014      25\n",
       "2011      13\n",
       "2013      11\n",
       "2012       3\n",
       "2008       2\n",
       "2009       2\n",
       "2010       1\n",
       "Name: year, dtype: int64"
      ]
     },
     "execution_count": 17,
     "metadata": {},
     "output_type": "execute_result"
    }
   ],
   "source": [
    "df.year.value_counts()"
   ]
  },
  {
   "cell_type": "code",
   "execution_count": 18,
   "id": "completed-illinois",
   "metadata": {
    "execution": {
     "iopub.execute_input": "2021-05-08T07:29:46.787502Z",
     "iopub.status.busy": "2021-05-08T07:29:46.786537Z",
     "iopub.status.idle": "2021-05-08T07:29:46.804816Z",
     "shell.execute_reply": "2021-05-08T07:29:46.805360Z"
    },
    "papermill": {
     "duration": 0.051093,
     "end_time": "2021-05-08T07:29:46.805535",
     "exception": false,
     "start_time": "2021-05-08T07:29:46.754442",
     "status": "completed"
    },
    "tags": []
   },
   "outputs": [
    {
     "data": {
      "text/plain": [
       "show_id            0\n",
       "type               0\n",
       "title              0\n",
       "director        2389\n",
       "cast             718\n",
       "country          507\n",
       "date_added         0\n",
       "release_year       0\n",
       "rating             7\n",
       "duration           0\n",
       "listed_in          0\n",
       "description        0\n",
       "year               0\n",
       "dtype: int64"
      ]
     },
     "execution_count": 18,
     "metadata": {},
     "output_type": "execute_result"
    }
   ],
   "source": [
    "df.isnull().sum()"
   ]
  },
  {
   "cell_type": "code",
   "execution_count": 19,
   "id": "charged-softball",
   "metadata": {
    "execution": {
     "iopub.execute_input": "2021-05-08T07:29:46.870381Z",
     "iopub.status.busy": "2021-05-08T07:29:46.869205Z",
     "iopub.status.idle": "2021-05-08T07:29:46.880209Z",
     "shell.execute_reply": "2021-05-08T07:29:46.880756Z"
    },
    "papermill": {
     "duration": 0.046061,
     "end_time": "2021-05-08T07:29:46.880927",
     "exception": false,
     "start_time": "2021-05-08T07:29:46.834866",
     "status": "completed"
    },
    "tags": []
   },
   "outputs": [
    {
     "data": {
      "text/plain": [
       "United States                                                 2555\n",
       "India                                                          923\n",
       "United Kingdom                                                 397\n",
       "Japan                                                          226\n",
       "South Korea                                                    183\n",
       "                                                              ... \n",
       "United Kingdom, France, Belgium, Canada, United States           1\n",
       "United States, Brazil, South Korea, Mexico, Japan, Germany       1\n",
       "Soviet Union, India                                              1\n",
       "United States, Colombia, Mexico                                  1\n",
       "United Arab Emirates, Jordan, Lebanon                            1\n",
       "Name: country, Length: 681, dtype: int64"
      ]
     },
     "execution_count": 19,
     "metadata": {},
     "output_type": "execute_result"
    }
   ],
   "source": [
    "df.country.value_counts() #displaying the most occurred country"
   ]
  },
  {
   "cell_type": "code",
   "execution_count": 20,
   "id": "english-immigration",
   "metadata": {
    "execution": {
     "iopub.execute_input": "2021-05-08T07:29:46.944622Z",
     "iopub.status.busy": "2021-05-08T07:29:46.943682Z",
     "iopub.status.idle": "2021-05-08T07:29:46.949313Z",
     "shell.execute_reply": "2021-05-08T07:29:46.949889Z"
    },
    "papermill": {
     "duration": 0.0393,
     "end_time": "2021-05-08T07:29:46.950079",
     "exception": false,
     "start_time": "2021-05-08T07:29:46.910779",
     "status": "completed"
    },
    "tags": []
   },
   "outputs": [],
   "source": [
    "#filling null values of country with most occuring country\n",
    "df.country.fillna(\"United_states\",inplace= True)"
   ]
  },
  {
   "cell_type": "code",
   "execution_count": 21,
   "id": "beneficial-designation",
   "metadata": {
    "execution": {
     "iopub.execute_input": "2021-05-08T07:29:47.014228Z",
     "iopub.status.busy": "2021-05-08T07:29:47.013276Z",
     "iopub.status.idle": "2021-05-08T07:29:47.022724Z",
     "shell.execute_reply": "2021-05-08T07:29:47.023305Z"
    },
    "papermill": {
     "duration": 0.043724,
     "end_time": "2021-05-08T07:29:47.023482",
     "exception": false,
     "start_time": "2021-05-08T07:29:46.979758",
     "status": "completed"
    },
    "tags": []
   },
   "outputs": [
    {
     "data": {
      "text/plain": [
       "TV-MA       2863\n",
       "TV-14       1931\n",
       "TV-PG        806\n",
       "R            665\n",
       "PG-13        386\n",
       "TV-Y         280\n",
       "TV-Y7        271\n",
       "PG           247\n",
       "TV-G         194\n",
       "NR            84\n",
       "G             39\n",
       "TV-Y7-FV       6\n",
       "UR             5\n",
       "NC-17          3\n",
       "Name: rating, dtype: int64"
      ]
     },
     "execution_count": 21,
     "metadata": {},
     "output_type": "execute_result"
    }
   ],
   "source": [
    "df.rating.value_counts()   #displaying the most occurred rating"
   ]
  },
  {
   "cell_type": "code",
   "execution_count": 22,
   "id": "accepted-austin",
   "metadata": {
    "execution": {
     "iopub.execute_input": "2021-05-08T07:29:47.087930Z",
     "iopub.status.busy": "2021-05-08T07:29:47.086983Z",
     "iopub.status.idle": "2021-05-08T07:29:47.092532Z",
     "shell.execute_reply": "2021-05-08T07:29:47.092973Z"
    },
    "papermill": {
     "duration": 0.039394,
     "end_time": "2021-05-08T07:29:47.093170",
     "exception": false,
     "start_time": "2021-05-08T07:29:47.053776",
     "status": "completed"
    },
    "tags": []
   },
   "outputs": [],
   "source": [
    "#filling null values of rating with most occuring rating\n",
    "df.rating.fillna(\"TV-MA\",inplace= True)"
   ]
  },
  {
   "cell_type": "code",
   "execution_count": 23,
   "id": "designed-studio",
   "metadata": {
    "execution": {
     "iopub.execute_input": "2021-05-08T07:29:47.157946Z",
     "iopub.status.busy": "2021-05-08T07:29:47.157035Z",
     "iopub.status.idle": "2021-05-08T07:29:47.175560Z",
     "shell.execute_reply": "2021-05-08T07:29:47.176054Z"
    },
    "papermill": {
     "duration": 0.05265,
     "end_time": "2021-05-08T07:29:47.176234",
     "exception": false,
     "start_time": "2021-05-08T07:29:47.123584",
     "status": "completed"
    },
    "tags": []
   },
   "outputs": [
    {
     "data": {
      "text/plain": [
       "show_id            0\n",
       "type               0\n",
       "title              0\n",
       "director        2389\n",
       "cast             718\n",
       "country            0\n",
       "date_added         0\n",
       "release_year       0\n",
       "rating             0\n",
       "duration           0\n",
       "listed_in          0\n",
       "description        0\n",
       "year               0\n",
       "dtype: int64"
      ]
     },
     "execution_count": 23,
     "metadata": {},
     "output_type": "execute_result"
    }
   ],
   "source": [
    "df.isnull().sum()"
   ]
  },
  {
   "cell_type": "markdown",
   "id": "eligible-catalyst",
   "metadata": {
    "papermill": {
     "duration": 0.030968,
     "end_time": "2021-05-08T07:29:47.238215",
     "exception": false,
     "start_time": "2021-05-08T07:29:47.207247",
     "status": "completed"
    },
    "tags": []
   },
   "source": [
    "# PLOTTING THE VALUES WITH USE OF SEABORN AND MATPLOTLIB"
   ]
  },
  {
   "cell_type": "code",
   "execution_count": 24,
   "id": "initial-idaho",
   "metadata": {
    "execution": {
     "iopub.execute_input": "2021-05-08T07:29:47.304955Z",
     "iopub.status.busy": "2021-05-08T07:29:47.303956Z",
     "iopub.status.idle": "2021-05-08T07:29:47.711038Z",
     "shell.execute_reply": "2021-05-08T07:29:47.712024Z"
    },
    "papermill": {
     "duration": 0.442511,
     "end_time": "2021-05-08T07:29:47.712298",
     "exception": false,
     "start_time": "2021-05-08T07:29:47.269787",
     "status": "completed"
    },
    "tags": []
   },
   "outputs": [
    {
     "data": {
      "text/plain": [
       "Text(0, 0.5, 'Number of country')"
      ]
     },
     "execution_count": 24,
     "metadata": {},
     "output_type": "execute_result"
    },
    {
     "data": {
      "image/png": "[encoded data removed]",
      "text/plain": [
       "<Figure size 720x720 with 1 Axes>"
      ]
     },
     "metadata": {
      "needs_background": "light"
     },
     "output_type": "display_data"
    }
   ],
   "source": [
    "# displaying all the countries with most contribution to netflix content\n",
    "x= df.country.value_counts().head(20)\n",
    "plt.figure(figsize=(10,10))\n",
    "sns.set_style(\"whitegrid\")   #set style to whitegrid\n",
    "ax= sns.barplot(x.values,x.index)   #using bar for visualization\n",
    "ax.set_xlabel(\"Number of content\")\n",
    "ax.set_ylabel(\"Number of country\")"
   ]
  },
  {
   "cell_type": "code",
   "execution_count": 25,
   "id": "durable-roommate",
   "metadata": {
    "execution": {
     "iopub.execute_input": "2021-05-08T07:29:47.791769Z",
     "iopub.status.busy": "2021-05-08T07:29:47.791117Z",
     "iopub.status.idle": "2021-05-08T07:29:47.943314Z",
     "shell.execute_reply": "2021-05-08T07:29:47.942672Z"
    },
    "papermill": {
     "duration": 0.189215,
     "end_time": "2021-05-08T07:29:47.943461",
     "exception": false,
     "start_time": "2021-05-08T07:29:47.754246",
     "status": "completed"
    },
    "tags": []
   },
   "outputs": [
    {
     "data": {
      "text/plain": [
       "<AxesSubplot:xlabel='type', ylabel='count'>"
      ]
     },
     "execution_count": 25,
     "metadata": {},
     "output_type": "execute_result"
    },
    {
     "data": {
      "image/png": "[encoded data removed]",
      "text/plain": [
       "<Figure size 648x648 with 1 Axes>"
      ]
     },
     "metadata": {},
     "output_type": "display_data"
    }
   ],
   "source": [
    "#distribution of type of content on netflix \n",
    "#69.1 percent of contents are movies while 30 percent are tv shows\n",
    "plt.figure(figsize=(9,9))\n",
    "\n",
    "x= df.type.value_counts()\n",
    "sns.countplot(x= \"type\",data= df)"
   ]
  },
  {
   "cell_type": "code",
   "execution_count": 26,
   "id": "norman-burke",
   "metadata": {
    "execution": {
     "iopub.execute_input": "2021-05-08T07:29:48.049947Z",
     "iopub.status.busy": "2021-05-08T07:29:48.041761Z",
     "iopub.status.idle": "2021-05-08T07:29:48.126473Z",
     "shell.execute_reply": "2021-05-08T07:29:48.127177Z"
    },
    "papermill": {
     "duration": 0.149019,
     "end_time": "2021-05-08T07:29:48.127353",
     "exception": false,
     "start_time": "2021-05-08T07:29:47.978334",
     "status": "completed"
    },
    "tags": []
   },
   "outputs": [
    {
     "data": {
      "image/png": "[encoded data removed]",
      "text/plain": [
       "<Figure size 576x720 with 1 Axes>"
      ]
     },
     "metadata": {},
     "output_type": "display_data"
    }
   ],
   "source": [
    "plt.figure(figsize=(8,10))\n",
    "\n",
    "label= [\"Movies\",\"Tv Shows\"]\n",
    "\n",
    "plt.pie(x.values, labels= label ,autopct= \"%1.1f%%\") # visualizing using pie\n",
    "plt.show()   "
   ]
  },
  {
   "cell_type": "code",
   "execution_count": 27,
   "id": "convertible-prize",
   "metadata": {
    "execution": {
     "iopub.execute_input": "2021-05-08T07:29:48.201751Z",
     "iopub.status.busy": "2021-05-08T07:29:48.200730Z",
     "iopub.status.idle": "2021-05-08T07:29:48.420825Z",
     "shell.execute_reply": "2021-05-08T07:29:48.421354Z"
    },
    "papermill": {
     "duration": 0.259057,
     "end_time": "2021-05-08T07:29:48.421539",
     "exception": false,
     "start_time": "2021-05-08T07:29:48.162482",
     "status": "completed"
    },
    "tags": []
   },
   "outputs": [
    {
     "data": {
      "text/plain": [
       "<AxesSubplot:xlabel='Year'>"
      ]
     },
     "execution_count": 27,
     "metadata": {},
     "output_type": "execute_result"
    },
    {
     "data": {
      "image/png": "[encoded data removed]",
      "text/plain": [
       "<Figure size 1152x432 with 1 Axes>"
      ]
     },
     "metadata": {},
     "output_type": "display_data"
    }
   ],
   "source": [
    "#Netflix content releases over the years\n",
    "x= df.release_year.value_counts()\n",
    "plt.figure(figsize=(16,6))\n",
    "plt.xlabel(\"Year\")\n",
    "\n",
    "sns.lineplot(x=x.index ,y= x.values)"
   ]
  },
  {
   "cell_type": "code",
   "execution_count": 28,
   "id": "incomplete-dayton",
   "metadata": {
    "execution": {
     "iopub.execute_input": "2021-05-08T07:29:48.499048Z",
     "iopub.status.busy": "2021-05-08T07:29:48.498026Z",
     "iopub.status.idle": "2021-05-08T07:29:48.745067Z",
     "shell.execute_reply": "2021-05-08T07:29:48.745532Z"
    },
    "papermill": {
     "duration": 0.287548,
     "end_time": "2021-05-08T07:29:48.745723",
     "exception": false,
     "start_time": "2021-05-08T07:29:48.458175",
     "status": "completed"
    },
    "tags": []
   },
   "outputs": [
    {
     "data": {
      "text/plain": [
       "Text(0, 0.5, 'No of content')"
      ]
     },
     "execution_count": 28,
     "metadata": {},
     "output_type": "execute_result"
    },
    {
     "data": {
      "image/png": "[encoded data removed]",
      "text/plain": [
       "<Figure size 1080x360 with 1 Axes>"
      ]
     },
     "metadata": {},
     "output_type": "display_data"
    }
   ],
   "source": [
    "#Number of content added on netflix over the years\n",
    "plt.figure(figsize=(15,5))\n",
    "x= df.year.value_counts()\n",
    "ax= sns.lineplot(x.index,x.values)\n",
    "ax.set_ylabel(\"No of content\")"
   ]
  },
  {
   "cell_type": "code",
   "execution_count": 29,
   "id": "coordinate-effectiveness",
   "metadata": {
    "execution": {
     "iopub.execute_input": "2021-05-08T07:29:48.827306Z",
     "iopub.status.busy": "2021-05-08T07:29:48.826256Z",
     "iopub.status.idle": "2021-05-08T07:29:49.091620Z",
     "shell.execute_reply": "2021-05-08T07:29:49.091076Z"
    },
    "papermill": {
     "duration": 0.308058,
     "end_time": "2021-05-08T07:29:49.091769",
     "exception": false,
     "start_time": "2021-05-08T07:29:48.783711",
     "status": "completed"
    },
    "tags": []
   },
   "outputs": [
    {
     "data": {
      "text/plain": [
       "<AxesSubplot:>"
      ]
     },
     "execution_count": 29,
     "metadata": {},
     "output_type": "execute_result"
    },
    {
     "data": {
      "image/png": "[encoded data removed]",
      "text/plain": [
       "<Figure size 576x576 with 1 Axes>"
      ]
     },
     "metadata": {},
     "output_type": "display_data"
    }
   ],
   "source": [
    "plt.figure(figsize=(8,8))\n",
    "\n",
    "sns.barplot(x.values,x.index)"
   ]
  },
  {
   "cell_type": "code",
   "execution_count": 30,
   "id": "swedish-fight",
   "metadata": {
    "execution": {
     "iopub.execute_input": "2021-05-08T07:29:49.188031Z",
     "iopub.status.busy": "2021-05-08T07:29:49.187308Z",
     "iopub.status.idle": "2021-05-08T07:29:49.455083Z",
     "shell.execute_reply": "2021-05-08T07:29:49.454283Z"
    },
    "papermill": {
     "duration": 0.322995,
     "end_time": "2021-05-08T07:29:49.455236",
     "exception": false,
     "start_time": "2021-05-08T07:29:49.132241",
     "status": "completed"
    },
    "tags": []
   },
   "outputs": [
    {
     "data": {
      "text/plain": [
       "<AxesSubplot:xlabel='rating', ylabel='count'>"
      ]
     },
     "execution_count": 30,
     "metadata": {},
     "output_type": "execute_result"
    },
    {
     "data": {
      "image/png": "[encoded data removed]",
      "text/plain": [
       "<Figure size 1152x432 with 1 Axes>"
      ]
     },
     "metadata": {},
     "output_type": "display_data"
    }
   ],
   "source": [
    "#content distribution based on rating\n",
    "#most of the content of netflix is either rated TV-MA or TV-14\n",
    "plt.figure(figsize=(16,6))\n",
    "sns.countplot(x= \"rating\",data= df)"
   ]
  },
  {
   "cell_type": "code",
   "execution_count": 31,
   "id": "improving-resource",
   "metadata": {
    "execution": {
     "iopub.execute_input": "2021-05-08T07:29:49.565564Z",
     "iopub.status.busy": "2021-05-08T07:29:49.551756Z",
     "iopub.status.idle": "2021-05-08T07:29:49.753587Z",
     "shell.execute_reply": "2021-05-08T07:29:49.752896Z"
    },
    "papermill": {
     "duration": 0.257286,
     "end_time": "2021-05-08T07:29:49.753728",
     "exception": false,
     "start_time": "2021-05-08T07:29:49.496442",
     "status": "completed"
    },
    "tags": []
   },
   "outputs": [
    {
     "data": {
      "image/png": "[encoded data removed]",
      "text/plain": [
       "<Figure size 720x720 with 1 Axes>"
      ]
     },
     "metadata": {},
     "output_type": "display_data"
    }
   ],
   "source": [
    "x= df.rating.value_counts()\n",
    "plt.figure(figsize=(10,10))\n",
    "\n",
    "labels= list(x.index)\n",
    "plt.pie(x.values,labels= labels,autopct= \"%1.1f%%\")\n",
    "plt.show()"
   ]
  },
  {
   "cell_type": "markdown",
   "id": "opening-trader",
   "metadata": {
    "papermill": {
     "duration": 0.043165,
     "end_time": "2021-05-08T07:29:49.840376",
     "exception": false,
     "start_time": "2021-05-08T07:29:49.797211",
     "status": "completed"
    },
    "tags": []
   },
   "source": [
    "GUYZ YOUR THOUGHTS AND FEEDBACKS ARE HIGHLY APPRECIATED \n",
    "#                   STAF SAFE AND TAKE CARE AND PLZ SHOW SOME LOVE ON THIS...."
   ]
  }
 ],
 "metadata": {
  "kernelspec": {
   "display_name": "Python 3",
   "language": "python",
   "name": "python3"
  },
  "language_info": {
   "codemirror_mode": {
    "name": "ipython",
    "version": 3
   },
   "file_extension": ".py",
   "mimetype": "text/x-python",
   "name": "python",
   "nbconvert_exporter": "python",
   "pygments_lexer": "ipython3",
   "version": "3.7.9"
  },
  "papermill": {
   "default_parameters": {},
   "duration": 12.924808,
   "end_time": "2021-05-08T07:29:50.593707",
   "environment_variables": {},
   "exception": null,
   "input_path": "__notebook__.ipynb",
   "output_path": "__notebook__.ipynb",
   "parameters": {},
   "start_time": "2021-05-08T07:29:37.668899",
   "version": "2.3.2"
  }
 },
 "nbformat": 4,
 "nbformat_minor": 5
}
